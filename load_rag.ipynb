{
 "cells": [
  {
   "cell_type": "code",
   "execution_count": 3,
   "id": "e1ff5dbc-0bf6-4165-a840-f522b82ef940",
   "metadata": {},
   "outputs": [],
   "source": [
    "from opensearchpy import OpenSearch, helpers, AWSV4SignerAuth, RequestsHttpConnection\n",
    "from sentence_transformers import SentenceTransformer\n",
    "import json\n",
    "import boto3\n",
    "\n",
    "# Authentication\n",
    "region = 'us-east-1'  # e.g., 'us-east-1'\n",
    "service = 'es'  # For OpenSearch Service, the service name is 'es'\n",
    "\n",
    "# Get AWS credentials (uses default credentials chain)\n",
    "credentials = boto3.Session().get_credentials()\n",
    "awsauth = AWSV4SignerAuth(credentials, region)\n",
    "\n",
    "# OpenSearch domain endpoint\n",
    "host = 'search-jpc2-rag-hiy7k2n5gjqhj4y67yebre5t7m.us-east-1.es.amazonaws.com'  # e.g., 'search-my-domain.us-east-1.es.amazonaws.com'\n",
    "\n",
    "# Create an OpenSearch client with AWS authentication\n",
    "client = OpenSearch(\n",
    "    hosts=[{'host': host, 'port': 443}],\n",
    "    http_auth=awsauth,\n",
    "    use_ssl=True,\n",
    "    verify_certs=True,\n",
    "    connection_class=RequestsHttpConnection,\n",
    ")"
   ]
  },
  {
   "cell_type": "code",
   "execution_count": 4,
   "id": "02558da7-83b3-4d56-b1a7-b47b035147da",
   "metadata": {},
   "outputs": [
    {
     "data": {
      "text/plain": [
       "{'acknowledged': True, 'shards_acknowledged': True, 'index': 'first_index'}"
      ]
     },
     "execution_count": 4,
     "metadata": {},
     "output_type": "execute_result"
    }
   ],
   "source": [
    "# Index configuration\n",
    "index_name = 'first_index'\n",
    "embedding_dimension = 384  # Dimension for 'all-MiniLM-L6-v2' model\n",
    "\n",
    "# Delete the index if it exists\n",
    "if client.indices.exists(index_name):\n",
    "    client.indices.delete(index=index_name)\n",
    "\n",
    "# Create the index with settings and mappings for KNN search\n",
    "index_body = {\n",
    "    'settings': {\n",
    "        'number_of_shards': 1,\n",
    "        'number_of_replicas': 0,\n",
    "        'index': {\n",
    "            'knn': True  # Enable KNN search\n",
    "        }\n",
    "    },\n",
    "    'mappings': {\n",
    "        'properties': {\n",
    "            'content': {'type': 'text'},\n",
    "            'embedding': {\n",
    "                'type': 'knn_vector',\n",
    "                'dimension': embedding_dimension\n",
    "            }\n",
    "        }\n",
    "    }\n",
    "}\n",
    "\n",
    "client.indices.create(index=index_name, body=index_body)"
   ]
  },
  {
   "cell_type": "code",
   "execution_count": 7,
   "id": "f3a9aec2-68a8-433d-82fa-adecd7b0dc5d",
   "metadata": {},
   "outputs": [
    {
     "name": "stdout",
     "output_type": "stream",
     "text": [
      "Uploaded 100 documents to OpenSearch index 'first_index' with embeddings.\n"
     ]
    }
   ],
   "source": [
    "from sentence_transformers import SentenceTransformer\n",
    "model = SentenceTransformer('all-MiniLM-L6-v2')\n",
    "\n",
    "# Read and process the raw data\n",
    "raw_data_file = 'patients.jsonl'  # Replace with your data file\n",
    "actions = []\n",
    "\n",
    "with open(raw_data_file, 'r') as f:\n",
    "    for idx, line in enumerate(f):\n",
    "        content = line\n",
    "        embedding = model.encode(content)\n",
    "        action = {\n",
    "            \"_index\": index_name,\n",
    "            \"_id\": idx,\n",
    "            \"_source\": {\n",
    "                \"content\": content,\n",
    "                \"embedding\": embedding.tolist()\n",
    "            }\n",
    "        }\n",
    "        actions.append(action)\n",
    "\n",
    "# Bulk upload the documents\n",
    "helpers.bulk(client, actions)\n",
    "print(f\"Uploaded {len(actions)} documents to OpenSearch index '{index_name}' with embeddings.\")"
   ]
  },
  {
   "cell_type": "code",
   "execution_count": null,
   "id": "e964c5af-5b5f-41eb-ad8d-61308940a8a3",
   "metadata": {},
   "outputs": [],
   "source": []
  }
 ],
 "metadata": {
  "kernelspec": {
   "display_name": "Python 3 (ipykernel)",
   "language": "python",
   "name": "python3"
  },
  "language_info": {
   "codemirror_mode": {
    "name": "ipython",
    "version": 3
   },
   "file_extension": ".py",
   "mimetype": "text/x-python",
   "name": "python",
   "nbconvert_exporter": "python",
   "pygments_lexer": "ipython3",
   "version": "3.10.12"
  }
 },
 "nbformat": 4,
 "nbformat_minor": 5
}
